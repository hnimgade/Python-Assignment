{
 "cells": [
  {
   "cell_type": "code",
   "execution_count": 10,
   "id": "156a17a6-fbe3-4a1c-91c7-5327498a344e",
   "metadata": {},
   "outputs": [
    {
     "name": "stdout",
     "output_type": "stream",
     "text": [
      "value of veriable a is 2 and value of veriable b 3\n"
     ]
    }
   ],
   "source": [
    "#Python Basics Variable\n",
    "# Assignment No 1 \n",
    "'''Declare two variables, `x` and `y`, and assign them integer values. Swap the\n",
    "values of these variables without using any temporary variable. '''\n",
    "a=2\n",
    "b=3\n",
    "print(\"value of veriable a is\", a, \"and value of veriable b\", b)\n"
   ]
  },
  {
   "cell_type": "code",
   "execution_count": 11,
   "id": "62c3e169-c1a4-4408-aa21-036618a2e86e",
   "metadata": {},
   "outputs": [],
   "source": [
    "a=a+b"
   ]
  },
  {
   "cell_type": "code",
   "execution_count": 12,
   "id": "bd358461-2cb3-4568-a560-bde8ac14c4cb",
   "metadata": {},
   "outputs": [],
   "source": [
    "b=a-b"
   ]
  },
  {
   "cell_type": "code",
   "execution_count": 13,
   "id": "dfbec4e3-4ee8-4b0a-8358-0068d75459f8",
   "metadata": {},
   "outputs": [],
   "source": [
    "a=a-b"
   ]
  },
  {
   "cell_type": "code",
   "execution_count": 14,
   "id": "e1a84702-ae8c-49cf-a76a-8c1ca3d228f3",
   "metadata": {},
   "outputs": [
    {
     "name": "stdout",
     "output_type": "stream",
     "text": [
      "value of veriable a is 3 and value of veriable b 2\n"
     ]
    }
   ],
   "source": [
    "a,b\n",
    "print(\"value of veriable a is\", a, \"and value of veriable b\", b)"
   ]
  },
  {
   "cell_type": "code",
   "execution_count": 26,
   "id": "51708d85-364f-44c9-ad2e-4cee85a7030a",
   "metadata": {},
   "outputs": [
    {
     "name": "stdin",
     "output_type": "stream",
     "text": [
      "Insert the Leanth of Rectangle 5\n",
      "Insert the width of the Rectangle 7\n"
     ]
    },
    {
     "name": "stdout",
     "output_type": "stream",
     "text": [
      " \n",
      "The area of a rectangle is 35\n"
     ]
    }
   ],
   "source": [
    "# Assignment No 2 \n",
    "'''Create a program that calculates the area of a rectangle. Take the length and\n",
    "width as inputs from the user and store them in variables. Calculate and\n",
    "display the area.'''\n",
    "\n",
    "\n",
    "l=input(\"Insert the Leanth of Rectangle\")\n",
    "w=input(\"Insert the width of the Rectangle\")\n",
    "print(\" \")\n",
    "print(\"The area of a rectangle is\",int(l) * int(w))"
   ]
  },
  {
   "cell_type": "code",
   "execution_count": 15,
   "id": "31341c33-4595-4f8e-b07f-dbbefa6b9c41",
   "metadata": {},
   "outputs": [
    {
     "name": "stdin",
     "output_type": "stream",
     "text": [
      "Insert temprature in celcius 8\n"
     ]
    },
    {
     "name": "stdout",
     "output_type": "stream",
     "text": [
      "8  celcius is  270.4  In ferenhiet\n"
     ]
    }
   ],
   "source": [
    "# Assignment No 3\n",
    "'''Write a Python program that converts temperatures from Celsius to\n",
    "Fahrenheit. Take the temperature in Celsius as input, store it in a variable,\n",
    "convert it to Fahrenheit, and display the result.'''\n",
    "\n",
    "c=input(\"Insert temprature in celcius\")\n",
    "print(c,\" celcius is \", int(c) * 33.8,\" In ferenhiet\")"
   ]
  },
  {
   "cell_type": "code",
   "execution_count": 1,
   "id": "ec0a401f-1991-4033-8e77-d480bb230280",
   "metadata": {},
   "outputs": [
    {
     "name": "stdin",
     "output_type": "stream",
     "text": [
      " hello this is harish\n"
     ]
    },
    {
     "name": "stdout",
     "output_type": "stream",
     "text": [
      " the word has  20\n"
     ]
    }
   ],
   "source": [
    "#String Based Questions\n",
    "## Assignment No 1 \n",
    "'''Write a Python program that takes a string as input and prints the length of\n",
    "the string.'''\n",
    "inp=input('')\n",
    "print(\" the word has \",len(inp))\n"
   ]
  },
  {
   "cell_type": "code",
   "execution_count": 3,
   "id": "b7a9de71-21fe-46c3-97ed-37bd07dcddae",
   "metadata": {},
   "outputs": [],
   "source": [
    "#String Based Questions\n",
    "# Assignment No 2 \n",
    "'''Create a program that takes a sentence from the user and counts the number\n",
    "of vowels (a, e, i, o, u) in the string.'''"
   ]
  },
  {
   "cell_type": "code",
   "execution_count": 6,
   "id": "e67d83f2-27e0-4e8d-8bb3-6e2475d109f5",
   "metadata": {},
   "outputs": [
    {
     "data": {
      "text/plain": [
       "(14, 'edagmiN hsiraH')"
      ]
     },
     "execution_count": 6,
     "metadata": {},
     "output_type": "execute_result"
    }
   ],
   "source": [
    "#String Based Questions\n",
    "# Assignment No 3\n",
    "'''Given a string, reverse the order of characters using string slicing and print\n",
    "the reversed string.'''\n",
    "h=\"Harish Nimgade\"\n",
    "len(h), h[14::-1]"
   ]
  },
  {
   "cell_type": "code",
   "execution_count": 7,
   "id": "4c1b821b-b7f1-4f65-bb7a-9335f9504b60",
   "metadata": {},
   "outputs": [
    {
     "name": "stdin",
     "output_type": "stream",
     "text": [
      " hello harish\n"
     ]
    },
    {
     "data": {
      "text/plain": [
       "'hsirah olleh'"
      ]
     },
     "execution_count": 7,
     "metadata": {},
     "output_type": "execute_result"
    }
   ],
   "source": [
    "#String Based Questions\n",
    "# Assignment No 4\n",
    "'''Write a program that takes a string as input and checks if it is a palindrome.'''\n",
    "str1=input()\n",
    "a=len(str1)\n",
    "str1[a::-1]"
   ]
  },
  {
   "cell_type": "code",
   "execution_count": 8,
   "id": "2593a9e8-1351-4fdf-a2a1-f83e434a0203",
   "metadata": {},
   "outputs": [
    {
     "name": "stdin",
     "output_type": "stream",
     "text": [
      " hello harish\n"
     ]
    },
    {
     "data": {
      "text/plain": [
       "'helloharish'"
      ]
     },
     "execution_count": 8,
     "metadata": {},
     "output_type": "execute_result"
    }
   ],
   "source": [
    "#String Based Questions\n",
    "# Assignment No 5\n",
    "'''Create a program that takes a string as input and removes all the spaces from\n",
    "it.'''\n",
    "str3=input()\n",
    "new_str3=str3.replace(\" \",\"\")\n",
    "new_str3                      "
   ]
  },
  {
   "cell_type": "code",
   "execution_count": null,
   "id": "bf82b1c5-d15b-4a37-944b-061729606b53",
   "metadata": {},
   "outputs": [],
   "source": []
  }
 ],
 "metadata": {
  "kernelspec": {
   "display_name": "Python 3 (ipykernel)",
   "language": "python",
   "name": "python3"
  },
  "language_info": {
   "codemirror_mode": {
    "name": "ipython",
    "version": 3
   },
   "file_extension": ".py",
   "mimetype": "text/x-python",
   "name": "python",
   "nbconvert_exporter": "python",
   "pygments_lexer": "ipython3",
   "version": "3.10.8"
  }
 },
 "nbformat": 4,
 "nbformat_minor": 5
}
